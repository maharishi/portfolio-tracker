{
 "cells": [
  {
   "cell_type": "markdown",
   "metadata": {},
   "source": [
    "MIT License\n",
    "\n",
    "Copyright (c) [year] [fullname]\n",
    "\n",
    "Permission is hereby granted, free of charge, to any person obtaining a copy\n",
    "of this software and associated documentation files (the \"Software\"), to deal\n",
    "in the Software without restriction, including without limitation the rights\n",
    "to use, copy, modify, merge, publish, distribute, sublicense, and/or sell\n",
    "copies of the Software, and to permit persons to whom the Software is\n",
    "furnished to do so, subject to the following conditions:\n",
    "\n",
    "The above copyright notice and this permission notice shall be included in all\n",
    "copies or substantial portions of the Software.\n",
    "\n",
    "THE SOFTWARE IS PROVIDED \"AS IS\", WITHOUT WARRANTY OF ANY KIND, EXPRESS OR\n",
    "IMPLIED, INCLUDING BUT NOT LIMITED TO THE WARRANTIES OF MERCHANTABILITY,\n",
    "FITNESS FOR A PARTICULAR PURPOSE AND NONINFRINGEMENT. IN NO EVENT SHALL THE\n",
    "AUTHORS OR COPYRIGHT HOLDERS BE LIABLE FOR ANY CLAIM, DAMAGES OR OTHER\n",
    "LIABILITY, WHETHER IN AN ACTION OF CONTRACT, TORT OR OTHERWISE, ARISING FROM,\n",
    "OUT OF OR IN CONNECTION WITH THE SOFTWARE OR THE USE OR OTHER DEALINGS IN THE\n",
    "SOFTWARE."
   ]
  },
  {
   "cell_type": "markdown",
   "metadata": {},
   "source": [
    "**Import Reference**"
   ]
  },
  {
   "cell_type": "code",
   "execution_count": 34,
   "metadata": {
    "tags": [
     "outputPrepend"
    ]
   },
   "outputs": [],
   "source": [
    "import requests\n",
    "from lxml import html   \n",
    "import numpy as np\n",
    "import pandas as pd\n",
    "import json"
   ]
  },
  {
   "cell_type": "markdown",
   "metadata": {},
   "source": [
    "**Json Processing**"
   ]
  },
  {
   "cell_type": "code",
   "execution_count": 35,
   "metadata": {},
   "outputs": [],
   "source": [
    "portfolio = json.load(open(\"./portfolio.json\",\"r\"))\n",
    "portfolioset = set(portfolio)"
   ]
  },
  {
   "cell_type": "markdown",
   "metadata": {},
   "source": [
    "**Call FinWiz site**"
   ]
  },
  {
   "cell_type": "code",
   "execution_count": 36,
   "metadata": {},
   "outputs": [],
   "source": [
    "tickers = ','.join(str(s) for s in portfolioset)\n",
    "URL = 'https://www.finviz.com/screener.ashx?v=110&t='+tickers\n",
    "page = requests.get(URL)\n",
    "tree = html.fromstring(page.content)"
   ]
  },
  {
   "cell_type": "code",
   "execution_count": 37,
   "metadata": {},
   "outputs": [],
   "source": [
    "screener = tree.xpath('//table[@bgcolor=\"#d3d3d3\"]/tr')"
   ]
  },
  {
   "cell_type": "markdown",
   "metadata": {},
   "source": [
    "**Post process HTML scrapping**"
   ]
  },
  {
   "cell_type": "code",
   "execution_count": 38,
   "metadata": {},
   "outputs": [],
   "source": [
    "# screener\n",
    "header=True\n",
    "stocks=[]\n",
    "for stock in screener:\n",
    "    if header:\n",
    "        headerarr = []\n",
    "        headerarr.append(\"Group\")\n",
    "        headerarr.append(stock.xpath('./td[2]/text()')[0])\n",
    "        headerarr.append(stock.xpath('./td[3]/text()')[0])\n",
    "        headerarr.append(stock.xpath('./td[4]/text()')[0])\n",
    "        headerarr.append(stock.xpath('./td[9]/text()')[0])\n",
    "        headerarr.append(stock.xpath('./td[10]/text()')[0])\n",
    "        headerarr.append(\"Unit Cost\")\n",
    "        headerarr.append(\"Qty\")\n",
    "        headerarr.append(\"Total Cost\")\n",
    "        headerarr.append(\"UnRealized Gain/Loss\")\n",
    "        headerarr.append(\"UnRealized Gain/Loss %\")\n",
    "        stocks.append(headerarr)\n",
    "        header=False\n",
    "    else:\n",
    "        uc = \"0\"\n",
    "        qty = \"0\"\n",
    "        unrgl = 0\n",
    "        unrglpct = 0\n",
    "        price = stock.xpath('./td[9]/a/span/text()')[0] #Price\n",
    "\n",
    "        if stock.xpath('./td[2]/a/text()')[0] in portfolioset:\n",
    "            uc = portfolio[stock.xpath('./td[2]/a/text()')[0]][\"unitcost\"]\n",
    "            qty = portfolio[stock.xpath('./td[2]/a/text()')[0]][\"qty\"]\n",
    "            unrgl = (float(price) - float(uc)) * float(qty)\n",
    "            unrglpct = ((float(price) - float(uc)) / float(uc))\n",
    "            \n",
    "        arr = [] #stock.xpath('./td/a/text()')\n",
    "        arr.append(portfolio[stock.xpath('./td[2]/a/text()')[0]][\"group\"]) #Group\n",
    "        arr.append(stock.xpath('./td[2]/a/text()')[0]) #Ticker\n",
    "        arr.append(stock.xpath('./td[3]/a/text()')[0]) #Company\n",
    "        arr.append(stock.xpath('./td[4]/a/text()')[0]) #Sector\n",
    "        arr.append(\"${0}\".format(price))\n",
    "        arr.append(stock.xpath('./td[10]/a/span/text()')[0]) #Change\n",
    "        arr.append(\"${0}\".format(uc))\n",
    "        arr.append(qty)\n",
    "        arr.append(\"${:.2f}\".format(float(uc) * float(qty)))\n",
    "        arr.append(\"${:.2f}\".format(unrgl))\n",
    "        arr.append(\"{:.2%}\".format(unrglpct))\n",
    "        stocks.append(arr)\n",
    "# print(stocks)"
   ]
  },
  {
   "cell_type": "markdown",
   "metadata": {},
   "source": [
    "**Attach it to DataFrame**"
   ]
  },
  {
   "cell_type": "code",
   "execution_count": 39,
   "metadata": {},
   "outputs": [
    {
     "output_type": "execute_result",
     "data": {
      "text/plain": "  Group Ticker                  Company      Sector    Price  Change  \\\n1     A     MA  Mastercard Incorporated   Financial  $237.03  -0.77%   \n2     A   MSFT    Microsoft Corporation  Technology  $153.83  -0.92%   \n\n  Unit Cost Qty Total Cost UnRealized Gain/Loss UnRealized Gain/Loss %  \n1   $200.00   1    $200.00               $37.03                 18.52%  \n2   $120.00   2    $240.00               $67.66                 28.19%  ",
      "text/html": "<div>\n<style scoped>\n    .dataframe tbody tr th:only-of-type {\n        vertical-align: middle;\n    }\n\n    .dataframe tbody tr th {\n        vertical-align: top;\n    }\n\n    .dataframe thead th {\n        text-align: right;\n    }\n</style>\n<table border=\"1\" class=\"dataframe\">\n  <thead>\n    <tr style=\"text-align: right;\">\n      <th></th>\n      <th>Group</th>\n      <th>Ticker</th>\n      <th>Company</th>\n      <th>Sector</th>\n      <th>Price</th>\n      <th>Change</th>\n      <th>Unit Cost</th>\n      <th>Qty</th>\n      <th>Total Cost</th>\n      <th>UnRealized Gain/Loss</th>\n      <th>UnRealized Gain/Loss %</th>\n    </tr>\n  </thead>\n  <tbody>\n    <tr>\n      <th>1</th>\n      <td>A</td>\n      <td>MA</td>\n      <td>Mastercard Incorporated</td>\n      <td>Financial</td>\n      <td>$237.03</td>\n      <td>-0.77%</td>\n      <td>$200.00</td>\n      <td>1</td>\n      <td>$200.00</td>\n      <td>$37.03</td>\n      <td>18.52%</td>\n    </tr>\n    <tr>\n      <th>2</th>\n      <td>A</td>\n      <td>MSFT</td>\n      <td>Microsoft Corporation</td>\n      <td>Technology</td>\n      <td>$153.83</td>\n      <td>-0.92%</td>\n      <td>$120.00</td>\n      <td>2</td>\n      <td>$240.00</td>\n      <td>$67.66</td>\n      <td>28.19%</td>\n    </tr>\n  </tbody>\n</table>\n</div>"
     },
     "metadata": {},
     "execution_count": 39
    }
   ],
   "source": [
    "dataset = pd.DataFrame(stocks)\n",
    "headers=dataset.iloc[0]\n",
    "dataset=dataset[1:]\n",
    "dataset.rename(columns = headers)"
   ]
  },
  {
   "cell_type": "code",
   "execution_count": null,
   "metadata": {},
   "outputs": [],
   "source": []
  }
 ],
 "metadata": {
  "file_extension": ".py",
  "kernelspec": {
   "display_name": "Python 3",
   "language": "python",
   "name": "python3"
  },
  "language_info": {
   "codemirror_mode": {
    "name": "ipython",
    "version": 3
   },
   "file_extension": ".py",
   "mimetype": "text/x-python",
   "name": "python",
   "nbconvert_exporter": "python",
   "pygments_lexer": "ipython3",
   "version": "3.7.3-final"
  },
  "mimetype": "text/x-python",
  "name": "python",
  "npconvert_exporter": "python",
  "pygments_lexer": "ipython3",
  "version": 3
 },
 "nbformat": 4,
 "nbformat_minor": 2
}